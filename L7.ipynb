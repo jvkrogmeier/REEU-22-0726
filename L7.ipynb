{
 "cells": [
  {
   "cell_type": "markdown",
   "metadata": {},
   "source": [
    "# Lecture 7\n",
    "\n",
    "(Summer 2022)\n",
    "\n",
    "## Outline of Topics\n",
    "\n",
    " - Finish Dictionaries and Mapping\n",
    " - APIs\n",
    " \n",
    "For more detail on python please see the Purdue DataMine web link: <a href=\"https://thedatamine.github.io/the-examples-book/python.html\" target=\"_blank\">Data Mine on Python</a>\n",
    "\n",
    "Also see: <a href=\"https://docs.python.org/3/\" target=\"_blank\">Python 3.9.1 Documentation</a>"
   ]
  },
  {
   "cell_type": "code",
   "execution_count": null,
   "metadata": {},
   "outputs": [],
   "source": [
    "# Bring in the packages we have used before.\n",
    "\n",
    "import math\n",
    "import numpy as np\n",
    "import matplotlib as mpl\n",
    "import matplotlib.pyplot as plt\n",
    "import requests"
   ]
  },
  {
   "cell_type": "code",
   "execution_count": null,
   "metadata": {},
   "outputs": [],
   "source": []
  },
  {
   "cell_type": "markdown",
   "metadata": {},
   "source": [
    "# HW: A program to read a text file and create a dictionary ...\n",
    "\n",
    "There are two text files in the Data subdirectory: JFKMoon.txt and MLKIHaveADream.txt. Here is something to work on ...\n",
    "\n",
    "1. Using the tools we've seen so far, read the files in line by line and create lists of the individual words in each line. There may be some extra characters, such as newline characters, that you will need to deal with as special cases.\n",
    "\n",
    "2. Create a program that does character count, word count, and line count on the file you input. There is a unix command that does the same thing, which you could use to compare. Word also has this utility.\n",
    "\n",
    "3. Now create a dictionary that shows the word frequency for each text file. The keys in the dictionary will be the unique words, the value associated with a key will be number of times a word appears in the text file.\n",
    "\n",
    "4. How could you modify your program in order to account for the fact that a capitalized word and its uncapitalized version are the same word?\n",
    "\n",
    "5. Are there other special cases to consider?"
   ]
  },
  {
   "cell_type": "code",
   "execution_count": null,
   "metadata": {},
   "outputs": [],
   "source": [
    "fin = open('Data/JFKMoon.txt', \"r\")\n",
    "\n",
    "longline = '';\n",
    "\n",
    "nlines = 0\n",
    "\n",
    "for line in fin:\n",
    "    longline = longline + line\n",
    "    nlines += 1\n",
    "    \n",
    "fin.close()\n",
    "\n",
    "nchars = len(longline)"
   ]
  },
  {
   "cell_type": "code",
   "execution_count": null,
   "metadata": {},
   "outputs": [],
   "source": [
    "print(f'The number of lines is: {nlines}')\n",
    "print(f'The total number of characters is: {nchars}')"
   ]
  },
  {
   "cell_type": "code",
   "execution_count": null,
   "metadata": {},
   "outputs": [],
   "source": [
    "#Examine longline to see what sort of odd characters it contains ...\n",
    "longline"
   ]
  },
  {
   "cell_type": "markdown",
   "metadata": {},
   "source": [
    "### The odd things noticed ...\n",
    "\n",
    "Every place a newline appears (\\n) it appears as two newlines, i.e., \\n\\n\n",
    "\n",
    "There are very few lines in the file in comparison to the number of words. Therefore, the line counter won't produce a reasonable estimate of lines. This is because the file was formated for a viewer that would break the lines automatically when they got too long --- this is useful if we were going to display the text file on screens of various widths.\n",
    "\n",
    "Some other special things are: use of the escape sequence before each apostrophe: \\' for example.\n",
    "\n",
    "There is other punctuation in there also: --- , ; . etc."
   ]
  },
  {
   "cell_type": "code",
   "execution_count": null,
   "metadata": {},
   "outputs": [],
   "source": [
    "# Replace the pairs of newlines with space\n",
    "longline = longline.replace('\\n\\n',' ')"
   ]
  },
  {
   "cell_type": "code",
   "execution_count": null,
   "metadata": {},
   "outputs": [],
   "source": [
    "# Remove the punctuation\n",
    "\n",
    "longline = longline.replace('--',' ')\n",
    "longline = longline.replace(',', '')\n",
    "longline = longline.replace('.','')\n",
    "longline = longline.replace(';','')\n",
    "longline = longline.replace(':','')\n",
    "longline = longline.replace('?','')"
   ]
  },
  {
   "cell_type": "code",
   "execution_count": null,
   "metadata": {},
   "outputs": [],
   "source": [
    "# Send to lower case ...\n",
    "\n",
    "longline = longline.lower()"
   ]
  },
  {
   "cell_type": "code",
   "execution_count": null,
   "metadata": {},
   "outputs": [],
   "source": [
    "wordlist = longline.split()\n",
    "nwords = len(wordlist)\n",
    "print(f'The number of words in the file is: {nwords}')"
   ]
  },
  {
   "cell_type": "code",
   "execution_count": null,
   "metadata": {},
   "outputs": [],
   "source": [
    "Uwords = set(wordlist)"
   ]
  },
  {
   "cell_type": "code",
   "execution_count": null,
   "metadata": {},
   "outputs": [],
   "source": [
    "len(Uwords)"
   ]
  },
  {
   "cell_type": "code",
   "execution_count": null,
   "metadata": {},
   "outputs": [],
   "source": [
    "print(Uwords)"
   ]
  },
  {
   "cell_type": "code",
   "execution_count": null,
   "metadata": {},
   "outputs": [],
   "source": []
  },
  {
   "cell_type": "markdown",
   "metadata": {},
   "source": [
    "### Using a dictionary to keep track of word frequency\n"
   ]
  },
  {
   "cell_type": "code",
   "execution_count": null,
   "metadata": {},
   "outputs": [],
   "source": [
    "word_count_dict = {}\n",
    "\n",
    "for word in wordlist:\n",
    "    if word in word_count_dict:\n",
    "        word_count_dict[word] += 1\n",
    "    else:\n",
    "        word_count_dict[word] = 1"
   ]
  },
  {
   "cell_type": "code",
   "execution_count": null,
   "metadata": {},
   "outputs": [],
   "source": [
    "print(word_count_dict)"
   ]
  },
  {
   "cell_type": "markdown",
   "metadata": {},
   "source": [
    "### We'd like to sort this thing by values in order to see the most common words."
   ]
  },
  {
   "cell_type": "code",
   "execution_count": null,
   "metadata": {},
   "outputs": [],
   "source": [
    "value_key_list = []\n",
    "\n",
    "for key,val in word_count_dict.items():\n",
    "    value_key_list.append((val,key))\n",
    "    \n",
    "value_key_list.sort(reverse=True)\n",
    "\n",
    "print('{:11s}{:11s}'.format('Word', 'Count'))\n",
    "print('_'*21)\n",
    "      \n",
    "for val,key in value_key_list:\n",
    "    print('{:12s}  {:<3d}'.format(key,val))\n",
    "    "
   ]
  },
  {
   "cell_type": "markdown",
   "metadata": {},
   "source": [
    "### Run it on \"I have a dream\" speech\n"
   ]
  },
  {
   "cell_type": "code",
   "execution_count": null,
   "metadata": {},
   "outputs": [],
   "source": [
    "fin = open('Data/MLKIHaveADream.txt', \"r\")\n",
    "\n",
    "longline = '';\n",
    "\n",
    "nlines = 0\n",
    "\n",
    "for line in fin:\n",
    "    longline = longline + line\n",
    "    nlines += 1\n",
    "    \n",
    "fin.close()\n",
    "\n",
    "nchars = len(longline)\n",
    "\n",
    "print(f'The number of lines is: {nlines}')\n",
    "print(f'The total number of characters is: {nchars}')\n",
    "\n",
    "# Replace the pairs of newlines with space\n",
    "longline = longline.replace('\\n\\n',' ')\n",
    "\n",
    "# Remove the punctuation\n",
    "longline = longline.replace('--',' ')\n",
    "longline = longline.replace(',', '')\n",
    "longline = longline.replace('.','')\n",
    "longline = longline.replace(';','')\n",
    "longline = longline.replace(':','')\n",
    "longline = longline.replace('?','')\n",
    "\n",
    "# Send to lower case ...\n",
    "longline = longline.lower()\n",
    "\n",
    "wordlist = longline.split()\n",
    "nwords = len(wordlist)\n",
    "print(f'The number of words in the file is: {nwords}')\n",
    "\n",
    "Uwords = set(wordlist)\n",
    "uniquewords = len(Uwords)\n",
    "\n",
    "print(f'The number of unique words in the file is: {uniquewords}')\n",
    "\n",
    "word_count_dict = {}\n",
    "\n",
    "for word in wordlist:\n",
    "    if word in word_count_dict:\n",
    "        word_count_dict[word] += 1\n",
    "    else:\n",
    "        word_count_dict[word] = 1\n",
    "        \n",
    "value_key_list = []\n",
    "\n",
    "for key,val in word_count_dict.items():\n",
    "    value_key_list.append((val,key))\n",
    "    \n",
    "value_key_list.sort(reverse=True)\n",
    "\n",
    "print('{:11s}{:11s}'.format('Word', 'Count'))\n",
    "print('_'*21)\n",
    "      \n",
    "for val,key in value_key_list:\n",
    "    print('{:12s}  {:<3d}'.format(key,val))\n"
   ]
  },
  {
   "cell_type": "markdown",
   "metadata": {},
   "source": [
    "## Take the above and encapsulate it as a function. Below is a function which was made just to do word count -- expand on this ..."
   ]
  },
  {
   "cell_type": "code",
   "execution_count": null,
   "metadata": {},
   "outputs": [],
   "source": [
    "# A solution for word count\n",
    "\n",
    "def PoorMansWordCount(file_name):\n",
    "    \n",
    "    fin = open(file_name, \"r\")\n",
    "    \n",
    "    Nchar = 0\n",
    "    Nword = 0\n",
    "    Nlines = 0\n",
    "    \n",
    "    for line in fin:\n",
    "        Nlines += 1\n",
    "        Nchar += len(line.replace('\\n',''))\n",
    "        Nword += len(line.replace('\\n','').split())\n",
    "\n",
    "    print(f'Number of lines in {file_name} is {Nlines}.')     \n",
    "    print(f'Number of words in {file_name} is {Nword}.')     \n",
    "    print(f'Number of characters in {file_name} is {Nchar}.')\n",
    "    \n",
    "    fin.close()\n",
    "   \n",
    "    return None"
   ]
  },
  {
   "cell_type": "code",
   "execution_count": null,
   "metadata": {},
   "outputs": [],
   "source": []
  },
  {
   "cell_type": "code",
   "execution_count": null,
   "metadata": {},
   "outputs": [],
   "source": []
  },
  {
   "cell_type": "markdown",
   "metadata": {},
   "source": [
    "## Playing with an API\n",
    "\n",
    "\n",
    "Try this one out: <a href=\"https://thedogapi.com/\" target=\"_blank\">The Dog API</a>"
   ]
  },
  {
   "cell_type": "code",
   "execution_count": null,
   "metadata": {},
   "outputs": [],
   "source": [
    "response = requests.get(\"https://api.thedogapi.com/\")\n",
    "response.text"
   ]
  },
  {
   "cell_type": "code",
   "execution_count": null,
   "metadata": {},
   "outputs": [],
   "source": [
    "response = requests.get(\"https://api.thedogapi.com/v1/breeds\")\n",
    "response.text"
   ]
  },
  {
   "cell_type": "code",
   "execution_count": null,
   "metadata": {},
   "outputs": [],
   "source": [
    "type(response.text)"
   ]
  },
  {
   "cell_type": "markdown",
   "metadata": {},
   "source": [
    "### There are python ways to convert a list like this to a dictionary. This looks like a list of dictionaries"
   ]
  },
  {
   "cell_type": "code",
   "execution_count": null,
   "metadata": {},
   "outputs": [],
   "source": []
  },
  {
   "cell_type": "code",
   "execution_count": null,
   "metadata": {},
   "outputs": [],
   "source": []
  },
  {
   "cell_type": "markdown",
   "metadata": {},
   "source": [
    "## The USDA QuickStats API\n",
    "\n",
    "Try this one out: <a href=\"https://quickstats.nass.usda.gov/\" target=\"_blank\">Quick Stats</a>\n",
    "\n",
    "Get a developer key ..."
   ]
  },
  {
   "cell_type": "code",
   "execution_count": null,
   "metadata": {},
   "outputs": [],
   "source": []
  },
  {
   "cell_type": "code",
   "execution_count": null,
   "metadata": {},
   "outputs": [],
   "source": [
    "# Put your developer key here as the string variable \n",
    "\n",
    "BlahThing="
   ]
  },
  {
   "cell_type": "code",
   "execution_count": null,
   "metadata": {},
   "outputs": [],
   "source": [
    "URL1a=\"http://quickstats.nass.usda.gov/api/get_counts/?key=\"\n",
    "URL1b=BlahThing\n",
    "URL1c=\"&commodity_desc=WHEAT&year=1959&state_alpha=CO\"\n",
    "URL1 = URL1a + URL1b + URL1c"
   ]
  },
  {
   "cell_type": "code",
   "execution_count": null,
   "metadata": {},
   "outputs": [],
   "source": [
    "response = requests.get(URL1)\n",
    "response.text"
   ]
  },
  {
   "cell_type": "code",
   "execution_count": null,
   "metadata": {},
   "outputs": [],
   "source": [
    "URL2a=\"http://quickstats.nass.usda.gov/api/get_counts/?key=\"\n",
    "URL2b=URL1b\n",
    "URL2c=\"&commodity_desc=WHEAT&year=1959&state_alpha=CO\"\n",
    "URL2 = URL2a + URL2b + URL2c\n",
    "response = requests.get(URL2)\n",
    "response.text\n",
    "\n"
   ]
  },
  {
   "cell_type": "code",
   "execution_count": null,
   "metadata": {},
   "outputs": [],
   "source": [
    "URL3a=\"http://quickstats.nass.usda.gov/api/api_GET/?key=\"\n",
    "URL3b=URL1b\n",
    "URL3c=\"&commodity_desc=WHEAT&year=1960&state_alpha=CO&format=CSV\"\n",
    "\n",
    "URL3 = URL3a + URL3b + URL3c\n",
    "response = requests.get(URL3)\n",
    "print(response.text)\n",
    "\n"
   ]
  },
  {
   "cell_type": "code",
   "execution_count": null,
   "metadata": {},
   "outputs": [],
   "source": [
    "type(response.text)"
   ]
  },
  {
   "cell_type": "code",
   "execution_count": null,
   "metadata": {},
   "outputs": [],
   "source": []
  },
  {
   "cell_type": "code",
   "execution_count": null,
   "metadata": {},
   "outputs": [],
   "source": []
  },
  {
   "cell_type": "code",
   "execution_count": null,
   "metadata": {},
   "outputs": [],
   "source": []
  },
  {
   "cell_type": "code",
   "execution_count": null,
   "metadata": {},
   "outputs": [],
   "source": []
  },
  {
   "cell_type": "code",
   "execution_count": null,
   "metadata": {},
   "outputs": [],
   "source": []
  }
 ],
 "metadata": {
  "kernelspec": {
   "display_name": "Python 3",
   "language": "python",
   "name": "python3"
  },
  "language_info": {
   "codemirror_mode": {
    "name": "ipython",
    "version": 3
   },
   "file_extension": ".py",
   "mimetype": "text/x-python",
   "name": "python",
   "nbconvert_exporter": "python",
   "pygments_lexer": "ipython3",
   "version": "3.8.8"
  }
 },
 "nbformat": 4,
 "nbformat_minor": 2
}
